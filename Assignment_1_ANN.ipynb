{
  "nbformat": 4,
  "nbformat_minor": 0,
  "metadata": {
    "colab": {
      "name": "Assignment-1 ANN.ipynb",
      "provenance": [],
      "collapsed_sections": [
        "rulPhHr9-BFh",
        "dRNkVUWdDPY0",
        "UdyR_DnMFUsD",
        "JJw49JzmKti_",
        "MxFcXW_iHLCk"
      ],
      "toc_visible": true
    },
    "kernelspec": {
      "name": "python3",
      "display_name": "Python 3"
    }
  },
  "cells": [
    {
      "cell_type": "markdown",
      "metadata": {
        "id": "uaaHhIW7C8h3",
        "colab_type": "text"
      },
      "source": [
        "# Task 1: Extraction of LBP & HOG features from Digit MNIST dataset and classification using ANN multiclass classification."
      ]
    },
    {
      "cell_type": "markdown",
      "metadata": {
        "id": "8VZ5DAIvDLZw",
        "colab_type": "text"
      },
      "source": [
        "### Step 1: Import required packages\n",
        "\n",
        "we will need tensorflow, numpy, os and keras\n"
      ]
    },
    {
      "cell_type": "code",
      "metadata": {
        "id": "fJZ7KiQnC8Af",
        "colab_type": "code",
        "outputId": "e7f8361a-98b4-46d8-db16-d3605a9e3c14",
        "colab": {
          "base_uri": "https://localhost:8080/",
          "height": 107
        }
      },
      "source": [
        "import tensorflow as tf\n",
        "import os\n",
        "import numpy as np\n",
        "from skimage import feature\n",
        "from sklearn import metrics\n",
        "from sklearn.metrics import accuracy_score\n",
        "import seaborn as sns\n",
        "%load_ext tensorboard"
      ],
      "execution_count": 0,
      "outputs": [
        {
          "output_type": "stream",
          "text": [
            "The tensorboard extension is already loaded. To reload it, use:\n",
            "  %reload_ext tensorboard\n"
          ],
          "name": "stdout"
        },
        {
          "output_type": "stream",
          "text": [
            "/usr/local/lib/python3.6/dist-packages/statsmodels/tools/_testing.py:19: FutureWarning: pandas.util.testing is deprecated. Use the functions in the public API at pandas.testing instead.\n",
            "  import pandas.util.testing as tm\n"
          ],
          "name": "stderr"
        }
      ]
    },
    {
      "cell_type": "code",
      "metadata": {
        "id": "iUn_eUCODOEZ",
        "colab_type": "code",
        "outputId": "8445f218-7a2e-429e-dd8d-b1ad30b8ead3",
        "colab": {
          "base_uri": "https://localhost:8080/",
          "height": 52
        }
      },
      "source": [
        "from tensorflow import keras\n",
        "print(tf.__version__)\n",
        "print(keras.__version__)"
      ],
      "execution_count": 0,
      "outputs": [
        {
          "output_type": "stream",
          "text": [
            "2.2.0-rc3\n",
            "2.3.0-tf\n"
          ],
          "name": "stdout"
        }
      ]
    },
    {
      "cell_type": "markdown",
      "metadata": {
        "id": "rulPhHr9-BFh",
        "colab_type": "text"
      },
      "source": [
        "##  Mount the Google Drive to access the Digit MNIST Dataset"
      ]
    },
    {
      "cell_type": "code",
      "metadata": {
        "id": "OH_5Yj_r-EHo",
        "colab_type": "code",
        "outputId": "c04ba46c-de59-498b-e9ba-db1ea480d4b7",
        "colab": {
          "base_uri": "https://localhost:8080/",
          "height": 125
        }
      },
      "source": [
        "from google.colab import drive\n",
        "drive.mount('/content/gdrive',force_remount=True)"
      ],
      "execution_count": 0,
      "outputs": [
        {
          "output_type": "stream",
          "text": [
            "Go to this URL in a browser: https://accounts.google.com/o/oauth2/auth?client_id=947318989803-6bn6qk8qdgf4n4g3pfee6491hc0brc4i.apps.googleusercontent.com&redirect_uri=urn%3aietf%3awg%3aoauth%3a2.0%3aoob&response_type=code&scope=email%20https%3a%2f%2fwww.googleapis.com%2fauth%2fdocs.test%20https%3a%2f%2fwww.googleapis.com%2fauth%2fdrive%20https%3a%2f%2fwww.googleapis.com%2fauth%2fdrive.photos.readonly%20https%3a%2f%2fwww.googleapis.com%2fauth%2fpeopleapi.readonly\n",
            "\n",
            "Enter your authorization code:\n",
            "··········\n",
            "Mounted at /content/gdrive\n"
          ],
          "name": "stdout"
        }
      ]
    },
    {
      "cell_type": "markdown",
      "metadata": {
        "id": "dRNkVUWdDPY0",
        "colab_type": "text"
      },
      "source": [
        "## Step 2. Dataset preparation"
      ]
    },
    {
      "cell_type": "code",
      "metadata": {
        "id": "b-KbV5AhEA4d",
        "colab_type": "code",
        "colab": {}
      },
      "source": [
        "def load_mnist(path, kind='train'):\n",
        "    import os\n",
        "    import gzip\n",
        "    import numpy as np\n",
        "\n",
        "    \"\"\"Load MNIST data from `path`\"\"\"\n",
        "    labels_path = os.path.join(path,\n",
        "                               '%s-labels-idx1-ubyte.gz'\n",
        "                               % kind)\n",
        "    images_path = os.path.join(path,\n",
        "                               '%s-images-idx3-ubyte.gz'\n",
        "                               % kind)\n",
        "\n",
        "    with gzip.open(labels_path, 'rb') as lbpath:\n",
        "        labels = np.frombuffer(lbpath.read(), dtype=np.uint8,\n",
        "                               offset=8)\n",
        "\n",
        "    with gzip.open(images_path, 'rb') as imgpath:\n",
        "        images = np.frombuffer(imgpath.read(), dtype=np.uint8,\n",
        "                               offset=16).reshape(len(labels), 784)\n",
        "\n",
        "    return images, labels"
      ],
      "execution_count": 0,
      "outputs": []
    },
    {
      "cell_type": "code",
      "metadata": {
        "id": "83Vqntp6ECJD",
        "colab_type": "code",
        "outputId": "3b896961-2f22-4443-bbdb-387a495847ec",
        "colab": {
          "base_uri": "https://localhost:8080/",
          "height": 34
        }
      },
      "source": [
        "cd /content/gdrive/My Drive/42028-DL-CNN-2020/Assignment-1/data"
      ],
      "execution_count": 0,
      "outputs": [
        {
          "output_type": "stream",
          "text": [
            "/content/gdrive/My Drive/42028-DL-CNN-2020/Assignment-1/data\n"
          ],
          "name": "stdout"
        }
      ]
    },
    {
      "cell_type": "code",
      "metadata": {
        "id": "8otvWfMkEE7G",
        "colab_type": "code",
        "outputId": "592ffb64-ec09-4b9d-bb00-64812b0081c7",
        "colab": {
          "base_uri": "https://localhost:8080/",
          "height": 52
        }
      },
      "source": [
        "ls"
      ],
      "execution_count": 0,
      "outputs": [
        {
          "output_type": "stream",
          "text": [
            "t10k-images-idx3-ubyte.gz  train-images-idx3-ubyte.gz\n",
            "t10k-labels-idx1-ubyte.gz  train-labels-idx1-ubyte.gz\n"
          ],
          "name": "stdout"
        }
      ]
    },
    {
      "cell_type": "code",
      "metadata": {
        "id": "psBU6a3UEGml",
        "colab_type": "code",
        "colab": {}
      },
      "source": [
        "train_images, train_labels = load_mnist('/content/gdrive/My Drive/42028-DL-CNN-2020/Assignment-1/data', kind='train')\n",
        "test_images, test_labels = load_mnist('/content/gdrive/My Drive/42028-DL-CNN-2020/Assignment-1/data', kind='t10k')"
      ],
      "execution_count": 0,
      "outputs": []
    },
    {
      "cell_type": "code",
      "metadata": {
        "id": "4aB6maaMEqWo",
        "colab_type": "code",
        "colab": {}
      },
      "source": [
        "train_images=train_images.reshape(-1,28,28)\n",
        "test_images=test_images.reshape(-1,28,28)"
      ],
      "execution_count": 0,
      "outputs": []
    },
    {
      "cell_type": "code",
      "metadata": {
        "id": "Zg3M6SI9DTVw",
        "colab_type": "code",
        "outputId": "3d891ace-d28d-421e-bb3b-1d19d34cc44e",
        "colab": {
          "base_uri": "https://localhost:8080/",
          "height": 52
        }
      },
      "source": [
        "print(train_images.shape)\n",
        "print(train_images.dtype)"
      ],
      "execution_count": 0,
      "outputs": [
        {
          "output_type": "stream",
          "text": [
            "(60000, 28, 28)\n",
            "uint8\n"
          ],
          "name": "stdout"
        }
      ]
    },
    {
      "cell_type": "code",
      "metadata": {
        "id": "-UpTy-jgDUad",
        "colab_type": "code",
        "colab": {}
      },
      "source": [
        "class_names = [\"0\", \"1\", \"2\", \"3\", \"4\", \"5\", \"6\", \"7\", \"8\", \"9\"]"
      ],
      "execution_count": 0,
      "outputs": []
    },
    {
      "cell_type": "code",
      "metadata": {
        "id": "tBck-AppDVfS",
        "colab_type": "code",
        "outputId": "f8db2c6e-dfe8-421e-a5f5-b9659d7de278",
        "colab": {
          "base_uri": "https://localhost:8080/",
          "height": 282
        }
      },
      "source": [
        "## Show an image from the dataset\n",
        "import matplotlib.pyplot as plt\n",
        "plt.imshow(train_images[356])\n",
        "print(train_labels[356])"
      ],
      "execution_count": 0,
      "outputs": [
        {
          "output_type": "stream",
          "text": [
            "3\n"
          ],
          "name": "stdout"
        },
        {
          "output_type": "display_data",
          "data": {
            "image/png": "[encoded data removed]",
            "text/plain": [
              "<Figure size 432x288 with 1 Axes>"
            ]
          },
          "metadata": {
            "tags": [],
            "needs_background": "light"
          }
        }
      ]
    },
    {
      "cell_type": "markdown",
      "metadata": {
        "id": "UdyR_DnMFUsD",
        "colab_type": "text"
      },
      "source": [
        "## Step 3: Normalize the dataset and split the small part of the training set into validation set\n",
        "\n",
        "\n",
        "- Validation set: first 5000 samples \n",
        "- Training set: 5000 to remaining"
      ]
    },
    {
      "cell_type": "code",
      "metadata": {
        "id": "3tbfnRXPFX8K",
        "colab_type": "code",
        "colab": {}
      },
      "source": [
        "#Using slicing to split the training to train and validation\n",
        "\n",
        "valid_images= train_images[:5000] / 255.0\n",
        "valid_labels = train_labels[:5000]\n",
        "\n",
        "train_images  = train_images[5000:] / 255.0\n",
        "train_labels=train_labels[5000:]\n",
        "\n",
        "test_images = test_images / 255.0"
      ],
      "execution_count": 0,
      "outputs": []
    },
    {
      "cell_type": "code",
      "metadata": {
        "id": "m3DvzEopFaGi",
        "colab_type": "code",
        "outputId": "a0eab480-a5bb-48d3-eef8-071c3ce7e429",
        "colab": {
          "base_uri": "https://localhost:8080/",
          "height": 105
        }
      },
      "source": [
        "print(np.shape(train_images))\n",
        "print(np.shape(valid_images))\n",
        "print(np.shape(test_images))\n",
        "\n",
        "print(np.shape(valid_labels))\n",
        "print(np.shape(train_labels))"
      ],
      "execution_count": 0,
      "outputs": [
        {
          "output_type": "stream",
          "text": [
            "(55000, 28, 28)\n",
            "(5000, 28, 28)\n",
            "(10000, 28, 28)\n",
            "(5000,)\n",
            "(55000,)\n"
          ],
          "name": "stdout"
        }
      ]
    },
    {
      "cell_type": "markdown",
      "metadata": {
        "id": "zLscFsDtMkGk",
        "colab_type": "text"
      },
      "source": [
        "## Raw Input Data"
      ]
    },
    {
      "cell_type": "markdown",
      "metadata": {
        "id": "nuqej6mQrikd",
        "colab_type": "text"
      },
      "source": [
        "### Step 4: Defining the model"
      ]
    },
    {
      "cell_type": "code",
      "metadata": {
        "id": "7q_LSnwOifph",
        "colab_type": "code",
        "colab": {}
      },
      "source": [
        "#define the model with 3 layers\n",
        "model = tf.keras.models.Sequential([tf.keras.layers.Flatten(input_shape=[28,28]), \n",
        "                                    tf.keras.layers.Dense(512, activation=tf.nn.relu), \n",
        "                                    tf.keras.layers.Dense(10, activation=tf.nn.softmax)])"
      ],
      "execution_count": 0,
      "outputs": []
    },
    {
      "cell_type": "markdown",
      "metadata": {
        "id": "zMZ2PytfFiCO",
        "colab_type": "text"
      },
      "source": [
        "### Step 5: Training the model"
      ]
    },
    {
      "cell_type": "code",
      "metadata": {
        "id": "NP-UHnmtFkZN",
        "colab_type": "code",
        "outputId": "9f6d1ef5-fd84-41f1-f1a0-a73ad5f79a9f",
        "colab": {
          "base_uri": "https://localhost:8080/",
          "height": 372
        }
      },
      "source": [
        "# Train and fit the model with given dataset\n",
        "model.compile(optimizer = tf.optimizers.Adam(),       \n",
        "              loss = 'sparse_categorical_crossentropy',\n",
        "              metrics=['accuracy'])\n",
        "\n",
        "H=model.fit(train_images, train_labels, epochs=10,validation_data=(valid_images, valid_labels))"
      ],
      "execution_count": 0,
      "outputs": [
        {
          "output_type": "stream",
          "text": [
            "Epoch 1/10\n",
            "1719/1719 [==============================] - 6s 4ms/step - loss: 0.2086 - accuracy: 0.9387 - val_loss: 0.0978 - val_accuracy: 0.9710\n",
            "Epoch 2/10\n",
            "1719/1719 [==============================] - 6s 4ms/step - loss: 0.0837 - accuracy: 0.9740 - val_loss: 0.0854 - val_accuracy: 0.9758\n",
            "Epoch 3/10\n",
            "1719/1719 [==============================] - 6s 4ms/step - loss: 0.0536 - accuracy: 0.9832 - val_loss: 0.0706 - val_accuracy: 0.9802\n",
            "Epoch 4/10\n",
            "1719/1719 [==============================] - 6s 4ms/step - loss: 0.0386 - accuracy: 0.9872 - val_loss: 0.0719 - val_accuracy: 0.9800\n",
            "Epoch 5/10\n",
            "1719/1719 [==============================] - 6s 4ms/step - loss: 0.0266 - accuracy: 0.9913 - val_loss: 0.0780 - val_accuracy: 0.9762\n",
            "Epoch 6/10\n",
            "1719/1719 [==============================] - 6s 4ms/step - loss: 0.0211 - accuracy: 0.9932 - val_loss: 0.0765 - val_accuracy: 0.9804\n",
            "Epoch 7/10\n",
            "1719/1719 [==============================] - 6s 4ms/step - loss: 0.0179 - accuracy: 0.9938 - val_loss: 0.0684 - val_accuracy: 0.9816\n",
            "Epoch 8/10\n",
            "1719/1719 [==============================] - 6s 4ms/step - loss: 0.0133 - accuracy: 0.9955 - val_loss: 0.0763 - val_accuracy: 0.9794\n",
            "Epoch 9/10\n",
            "1719/1719 [==============================] - 6s 4ms/step - loss: 0.0126 - accuracy: 0.9959 - val_loss: 0.0707 - val_accuracy: 0.9822\n",
            "Epoch 10/10\n",
            "1719/1719 [==============================] - 6s 4ms/step - loss: 0.0118 - accuracy: 0.9960 - val_loss: 0.0858 - val_accuracy: 0.9800\n"
          ],
          "name": "stdout"
        }
      ]
    },
    {
      "cell_type": "code",
      "metadata": {
        "id": "feHyamDBFoIT",
        "colab_type": "code",
        "outputId": "865c5753-b8a4-464f-ba50-ea2a18b51b3e",
        "colab": {
          "base_uri": "https://localhost:8080/",
          "height": 34
        }
      },
      "source": [
        "type(H)\n",
        "print(H.history.keys())"
      ],
      "execution_count": 0,
      "outputs": [
        {
          "output_type": "stream",
          "text": [
            "dict_keys(['loss', 'accuracy', 'val_loss', 'val_accuracy'])\n"
          ],
          "name": "stdout"
        }
      ]
    },
    {
      "cell_type": "code",
      "metadata": {
        "id": "pDqZnhIqKny0",
        "colab_type": "code",
        "outputId": "fca19658-2c57-4465-a03c-8831ae6c5877",
        "colab": {
          "base_uri": "https://localhost:8080/",
          "height": 372
        }
      },
      "source": [
        "#Different model with SGD as optimizer\n",
        "model1 = tf.keras.models.Sequential([tf.keras.layers.Flatten(input_shape=[28,28]), \n",
        "                                    tf.keras.layers.Dense(128, activation=tf.nn.relu), \n",
        "                                    tf.keras.layers.Dense(10, activation=tf.nn.softmax)])\n",
        "\n",
        "model1.compile(optimizer = tf.optimizers.SGD(0.01),\n",
        "              loss = 'sparse_categorical_crossentropy',\n",
        "              metrics=['accuracy'])\n",
        "\n",
        "H=model1.fit(train_images, train_labels, epochs=10,validation_data=(valid_images, valid_labels))"
      ],
      "execution_count": 0,
      "outputs": [
        {
          "output_type": "stream",
          "text": [
            "Epoch 1/10\n",
            "1719/1719 [==============================] - 3s 2ms/step - loss: 0.6799 - accuracy: 0.8267 - val_loss: 0.3674 - val_accuracy: 0.9012\n",
            "Epoch 2/10\n",
            "1719/1719 [==============================] - 3s 2ms/step - loss: 0.3507 - accuracy: 0.9027 - val_loss: 0.2951 - val_accuracy: 0.9204\n",
            "Epoch 3/10\n",
            "1719/1719 [==============================] - 3s 2ms/step - loss: 0.3004 - accuracy: 0.9156 - val_loss: 0.2663 - val_accuracy: 0.9282\n",
            "Epoch 4/10\n",
            "1719/1719 [==============================] - 3s 2ms/step - loss: 0.2702 - accuracy: 0.9243 - val_loss: 0.2384 - val_accuracy: 0.9350\n",
            "Epoch 5/10\n",
            "1719/1719 [==============================] - 3s 2ms/step - loss: 0.2467 - accuracy: 0.9313 - val_loss: 0.2206 - val_accuracy: 0.9374\n",
            "Epoch 6/10\n",
            "1719/1719 [==============================] - 3s 2ms/step - loss: 0.2277 - accuracy: 0.9368 - val_loss: 0.2025 - val_accuracy: 0.9458\n",
            "Epoch 7/10\n",
            "1719/1719 [==============================] - 3s 2ms/step - loss: 0.2115 - accuracy: 0.9408 - val_loss: 0.1901 - val_accuracy: 0.9474\n",
            "Epoch 8/10\n",
            "1719/1719 [==============================] - 3s 2ms/step - loss: 0.1975 - accuracy: 0.9451 - val_loss: 0.1794 - val_accuracy: 0.9520\n",
            "Epoch 9/10\n",
            "1719/1719 [==============================] - 3s 2ms/step - loss: 0.1853 - accuracy: 0.9480 - val_loss: 0.1710 - val_accuracy: 0.9540\n",
            "Epoch 10/10\n",
            "1719/1719 [==============================] - 3s 2ms/step - loss: 0.1746 - accuracy: 0.9513 - val_loss: 0.1625 - val_accuracy: 0.9578\n"
          ],
          "name": "stdout"
        }
      ]
    },
    {
      "cell_type": "markdown",
      "metadata": {
        "id": "JJw49JzmKti_",
        "colab_type": "text"
      },
      "source": [
        "### Summary of the model"
      ]
    },
    {
      "cell_type": "code",
      "metadata": {
        "id": "bf6pI_D0KyGc",
        "colab_type": "code",
        "outputId": "7e349824-2637-4566-e1c7-7e8616c12653",
        "colab": {
          "base_uri": "https://localhost:8080/",
          "height": 265
        }
      },
      "source": [
        "model.summary()"
      ],
      "execution_count": 0,
      "outputs": [
        {
          "output_type": "stream",
          "text": [
            "Model: \"sequential_1\"\n",
            "_________________________________________________________________\n",
            "Layer (type)                 Output Shape              Param #   \n",
            "=================================================================\n",
            "flatten_1 (Flatten)          (None, 784)               0         \n",
            "_________________________________________________________________\n",
            "dense_2 (Dense)              (None, 512)               401920    \n",
            "_________________________________________________________________\n",
            "dense_3 (Dense)              (None, 10)                5130      \n",
            "=================================================================\n",
            "Total params: 407,050\n",
            "Trainable params: 407,050\n",
            "Non-trainable params: 0\n",
            "_________________________________________________________________\n"
          ],
          "name": "stdout"
        }
      ]
    },
    {
      "cell_type": "code",
      "metadata": {
        "id": "TjmgwcWLK0RA",
        "colab_type": "code",
        "outputId": "3aaf7797-af54-40dc-c6c7-b0be2334f395",
        "colab": {
          "base_uri": "https://localhost:8080/",
          "height": 602
        }
      },
      "source": [
        "import pandas as pd\n",
        "import matplotlib.pyplot as plt\n",
        "pd.DataFrame(H.history).plot(figsize=(8, 5))\n",
        "plt.grid(True)\n",
        "plt.gca().set_ylim(0, 1) # set the vertical range to [0-1]\n",
        "plt.show()\n",
        "\n",
        "plt.plot(H.history['loss'])\n",
        "plt.ylabel('cost')\n",
        "plt.xlabel('Epochs')\n",
        "plt.title(\"Cost/Loss Curve\")\n",
        "plt.show()"
      ],
      "execution_count": 0,
      "outputs": [
        {
          "output_type": "display_data",
          "data": {
            "image/png": "[encoded data removed]",
            "text/plain": [
              "<Figure size 576x360 with 1 Axes>"
            ]
          },
          "metadata": {
            "tags": [],
            "needs_background": "light"
          }
        },
        {
          "output_type": "display_data",
          "data": {
            "image/png": "[encoded data removed]",
            "text/plain": [
              "<Figure size 432x288 with 1 Axes>"
            ]
          },
          "metadata": {
            "tags": [],
            "needs_background": "light"
          }
        }
      ]
    },
    {
      "cell_type": "markdown",
      "metadata": {
        "id": "MxFcXW_iHLCk",
        "colab_type": "text"
      },
      "source": [
        "### Step 6: Evaluation on test dataset"
      ]
    },
    {
      "cell_type": "code",
      "metadata": {
        "id": "SZZlDMsSHLp5",
        "colab_type": "code",
        "outputId": "34f0da42-2f79-42a2-927b-daf196c6cde2",
        "colab": {
          "base_uri": "https://localhost:8080/",
          "height": 52
        }
      },
      "source": [
        "# Accuracy for model\n",
        "model.evaluate(test_images, test_labels)"
      ],
      "execution_count": 0,
      "outputs": [
        {
          "output_type": "stream",
          "text": [
            "313/313 [==============================] - 1s 2ms/step - loss: 0.0859 - accuracy: 0.9796\n"
          ],
          "name": "stdout"
        },
        {
          "output_type": "execute_result",
          "data": {
            "text/plain": [
              "[0.0858682245016098, 0.9796000123023987]"
            ]
          },
          "metadata": {
            "tags": []
          },
          "execution_count": 21
        }
      ]
    },
    {
      "cell_type": "code",
      "metadata": {
        "id": "ZYDmIg3IK7ok",
        "colab_type": "code",
        "outputId": "10de6ae9-311b-43a6-8897-4f81f0c5dc71",
        "colab": {
          "base_uri": "https://localhost:8080/",
          "height": 52
        }
      },
      "source": [
        "model1.evaluate(test_images, test_labels)"
      ],
      "execution_count": 0,
      "outputs": [
        {
          "output_type": "stream",
          "text": [
            "313/313 [==============================] - 0s 1ms/step - loss: 0.1696 - accuracy: 0.9509\n"
          ],
          "name": "stdout"
        },
        {
          "output_type": "execute_result",
          "data": {
            "text/plain": [
              "[0.16963833570480347, 0.9509000182151794]"
            ]
          },
          "metadata": {
            "tags": []
          },
          "execution_count": 22
        }
      ]
    },
    {
      "cell_type": "code",
      "metadata": {
        "id": "IAcOSBLx7vfx",
        "colab_type": "code",
        "outputId": "df11fcb2-dfac-46f9-9bcf-4c3f04e14354",
        "colab": {
          "base_uri": "https://localhost:8080/",
          "height": 107
        }
      },
      "source": [
        "predictions=[]\n",
        "predict_label=[]\n",
        "# Exract LBP features for each test sample and classify it with the trained SVM classifier\n",
        "\n",
        "## WRITE YOUR CODE HERE (~ 2 lines)\n",
        "for im_index in range(len(test_images)):\n",
        "  imag = test_images[im_index]\n",
        "  \n",
        "  # Perform classification, Hint: use model.predict()\n",
        "  prediction = model.predict_classes(imag.reshape(1,-1))\n",
        "## END YOUR CODE HERE \n",
        "  \n",
        "  # Store the classfication result\n",
        "  predictions.append(prediction)\n",
        "  predict_label.append(test_labels[im_index])"
      ],
      "execution_count": 0,
      "outputs": [
        {
          "output_type": "stream",
          "text": [
            "WARNING:tensorflow:From <ipython-input-23-c3417b5f66f6>:10: Sequential.predict_classes (from tensorflow.python.keras.engine.sequential) is deprecated and will be removed after 2021-01-01.\n",
            "Instructions for updating:\n",
            "Please use instead:* `np.argmax(model.predict(x), axis=-1)`,   if your model does multi-class classification   (e.g. if it uses a `softmax` last-layer activation).* `(model.predict(x) > 0.5).astype(\"int32\")`,   if your model does binary classification   (e.g. if it uses a `sigmoid` last-layer activation).\n",
            "WARNING:tensorflow:Model was constructed with shape (None, 28, 28) for input Tensor(\"flatten_1_input:0\", shape=(None, 28, 28), dtype=float32), but it was called on an input with incompatible shape (None, 784).\n"
          ],
          "name": "stdout"
        }
      ]
    },
    {
      "cell_type": "code",
      "metadata": {
        "id": "Y629tcI77fHy",
        "colab_type": "code",
        "outputId": "9764fe4d-1fb3-4bbf-e33e-d8ad8c22165f",
        "colab": {
          "base_uri": "https://localhost:8080/",
          "height": 34
        }
      },
      "source": [
        "accuracy = metrics.accuracy_score(predict_label, predictions)\n",
        "print(\"Accuracy on test dataset:\",accuracy)"
      ],
      "execution_count": 0,
      "outputs": [
        {
          "output_type": "stream",
          "text": [
            "Accuracy on test dataset: 0.9796\n"
          ],
          "name": "stdout"
        }
      ]
    },
    {
      "cell_type": "code",
      "metadata": {
        "id": "pHzrUHNN8-qt",
        "colab_type": "code",
        "outputId": "e977b6e0-eed7-482f-a9ca-6c33874127b3",
        "colab": {
          "base_uri": "https://localhost:8080/",
          "height": 703
        }
      },
      "source": [
        "# plot the confusion matrix\n",
        "cm  = metrics.confusion_matrix(predict_label, predictions)\n",
        "print(cm)\n",
        "\n",
        "# Plot confusion matrix using seaborn library\n",
        "plt.figure(figsize=(9,9))\n",
        "sns.heatmap(cm, annot=True, fmt=\".3f\", linewidths=.5, square = True, cmap = 'Blues_r');\n",
        "plt.ylabel('Actual label');\n",
        "plt.xlabel('Predicted label');\n",
        "all_sample_title = 'Accuracy Score: {0}'.format(accuracy)\n",
        "plt.title(all_sample_title, size = 15);"
      ],
      "execution_count": 0,
      "outputs": [
        {
          "output_type": "stream",
          "text": [
            "[[ 970    1    1    1    2    0    2    1    1    1]\n",
            " [   0 1132    0    1    0    1    0    1    0    0]\n",
            " [   2    2 1006    6    3    0    1    6    5    1]\n",
            " [   0    0    1  995    0    3    0    3    0    8]\n",
            " [   1    0    1    0  951    0    3    2    1   23]\n",
            " [   2    0    0   10    1  873    2    1    1    2]\n",
            " [   5    2    0    2    6    6  936    0    1    0]\n",
            " [   1    4    4    3    0    0    0 1012    1    3]\n",
            " [   5    1    2    5    6    8    1    4  933    9]\n",
            " [   1    2    0    3    5    1    0    9    0  988]]\n"
          ],
          "name": "stdout"
        },
        {
          "output_type": "display_data",
          "data": {
            "image/png": "[encoded data removed]",
            "text/plain": [
              "<Figure size 648x648 with 2 Axes>"
            ]
          },
          "metadata": {
            "tags": [],
            "needs_background": "light"
          }
        }
      ]
    },
    {
      "cell_type": "code",
      "metadata": {
        "id": "gTccHkwuRRB0",
        "colab_type": "code",
        "outputId": "246ed8a1-5e73-4851-a2e1-73a68c06b39d",
        "colab": {
          "base_uri": "https://localhost:8080/",
          "height": 338
        }
      },
      "source": [
        "fig = plt.figure()\n",
        "ax1 = fig.add_subplot(2,2,1)\n",
        "ax1.imshow(test_images[4])\n",
        "print(test_labels[4])\n",
        "ax2 = fig.add_subplot(2,2,2)\n",
        "ax2.imshow(test_images[2])\n",
        "print(test_labels[2])\n",
        "ax3 = fig.add_subplot(2,2,3)\n",
        "ax3.imshow(test_images[3])\n",
        "print(test_labels[3])\n",
        "ax4 = fig.add_subplot(2,2,4)\n",
        "ax4.imshow(test_images[426])\n",
        "print(test_labels[426])"
      ],
      "execution_count": 0,
      "outputs": [
        {
          "output_type": "stream",
          "text": [
            "4\n",
            "1\n",
            "0\n",
            "9\n"
          ],
          "name": "stdout"
        },
        {
          "output_type": "display_data",
          "data": {
            "image/png": "[encoded data removed]",
            "text/plain": [
              "<Figure size 432x288 with 4 Axes>"
            ]
          },
          "metadata": {
            "tags": [],
            "needs_background": "light"
          }
        }
      ]
    }
  ]
}